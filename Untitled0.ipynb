{
  "nbformat": 4,
  "nbformat_minor": 0,
  "metadata": {
    "colab": {
      "name": "Untitled0.ipynb",
      "provenance": [],
      "toc_visible": true,
      "history_visible": true,
      "authorship_tag": "ABX9TyOghzz8VYQjdQvRahqIgMMK",
      "include_colab_link": true
    },
    "kernelspec": {
      "name": "python3",
      "display_name": "Python 3"
    },
    "language_info": {
      "name": "python"
    }
  },
  "cells": [
    {
      "cell_type": "markdown",
      "metadata": {
        "id": "view-in-github",
        "colab_type": "text"
      },
      "source": [
        "<a href=\"https://colab.research.google.com/github/Nereydarcp/EJERCICIO-PR-CTICO-1/blob/main/Untitled0.ipynb\" target=\"_parent\"><img src=\"https://colab.research.google.com/assets/colab-badge.svg\" alt=\"Open In Colab\"/></a>"
      ]
    },
    {
      "cell_type": "code",
      "execution_count": null,
      "metadata": {
        "id": "3d4xjn3dGMum"
      },
      "outputs": [],
      "source": [
        "import csv\n"
      ]
    },
    {
      "cell_type": "markdown",
      "source": [
        ""
      ],
      "metadata": {
        "id": "L-jiQC7sKt3C"
      }
    },
    {
      "cell_type": "markdown",
      "source": [
        "## SOLUCIÓN DEL CASO PRACTICO 2\n",
        "**\"INTRODUCCIÓN AL ANALISIS DE DATOS CON PYTHON\"**"
      ],
      "metadata": {
        "id": "9bs-qyl3JkWL"
      }
    },
    {
      "cell_type": "code",
      "source": [
        "base_de_datos = pd.read_csv('/ejerciciopractico2.csv')\n",
        "\n",
        "base_de_datos[\"route\"] = base_de_datos[\"origin\"] + \" \" + base_de_datos[\"destination\"]\n",
        "base_de_datos[\"routeid\"] = base_de_datos[\"route\"].apply(lambda x: ' '.join(sorted(x.split())))\n",
        "routes = base_de_datos[[\"route\", \"routeid\", \"total_value\"]]\n",
        "\n",
        "route_count = routes[\"routeid\"].value_counts().iloc[:10]\n",
        "print('El top 10 de rutas más demandadas son: \\n', route_count)"
      ],
      "metadata": {
        "colab": {
          "base_uri": "https://localhost:8080/"
        },
        "id": "zxBrn55WQxcm",
        "outputId": "b5c2e3a4-1d9c-4763-d8d8-cf1304694b5d"
      },
      "execution_count": 6,
      "outputs": [
        {
          "output_type": "stream",
          "name": "stdout",
          "text": [
            "El top 10 de rutas más demandadas son: \n",
            " China Japan            539\n",
            "Japan Mexico           520\n",
            "Korea South Vietnam    497\n",
            "France Germany         494\n",
            "Belgium Netherlands    473\n",
            "China Germany          470\n",
            "China Mexico           451\n",
            "Netherlands USA        436\n",
            "Mexico USA             422\n",
            "Canada USA             378\n",
            "Name: routeid, dtype: int64\n"
          ]
        }
      ]
    }
  ]
}